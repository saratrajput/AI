{
 "cells": [
  {
   "cell_type": "markdown",
   "metadata": {},
   "source": [
    "# HOMEWORK 7\n",
    "The aim of the homework was to download some electronic books from Project Gutenberg and write a program to scan these texts for any extremely long sentences. Then, to find the longest sentence and determine what are the syntactic construction(s) responsible for such long sentences.\n",
    "\n",
    "We decided to use the Gutenberg corpus included in NLTK to exploit the functions in the gutenberg object like gutenberg.words(), gutenberg.sents(), etc. to avoid repeating the work."
   ]
  },
  {
   "cell_type": "code",
   "execution_count": 1,
   "metadata": {
    "collapsed": false
   },
   "outputs": [
    {
     "name": "stdout",
     "output_type": "stream",
     "text": [
      "*** Introductory Examples for the NLTK Book ***\n",
      "Loading text1, ..., text9 and sent1, ..., sent9\n",
      "Type the name of the text or sentence to view it.\n",
      "Type: 'texts()' or 'sents()' to list the materials.\n",
      "text1: Moby Dick by Herman Melville 1851\n",
      "text2: Sense and Sensibility by Jane Austen 1811\n",
      "text3: The Book of Genesis\n",
      "text4: Inaugural Address Corpus\n",
      "text5: Chat Corpus\n",
      "text6: Monty Python and the Holy Grail\n",
      "text7: Wall Street Journal\n",
      "text8: Personals Corpus\n",
      "text9: The Man Who Was Thursday by G . K . Chesterton 1908\n"
     ]
    }
   ],
   "source": [
    "from nltk.book import *"
   ]
  },
  {
   "cell_type": "code",
   "execution_count": 2,
   "metadata": {
    "collapsed": false
   },
   "outputs": [
    {
     "data": {
      "text/plain": [
       "['austen-emma.txt',\n",
       " 'austen-persuasion.txt',\n",
       " 'austen-sense.txt',\n",
       " 'bible-kjv.txt',\n",
       " 'blake-poems.txt',\n",
       " 'bryant-stories.txt',\n",
       " 'burgess-busterbrown.txt',\n",
       " 'carroll-alice.txt',\n",
       " 'chesterton-ball.txt',\n",
       " 'chesterton-brown.txt',\n",
       " 'chesterton-thursday.txt',\n",
       " 'edgeworth-parents.txt',\n",
       " 'melville-moby_dick.txt',\n",
       " 'milton-paradise.txt',\n",
       " 'shakespeare-caesar.txt',\n",
       " 'shakespeare-hamlet.txt',\n",
       " 'shakespeare-macbeth.txt',\n",
       " 'whitman-leaves.txt']"
      ]
     },
     "execution_count": 2,
     "metadata": {},
     "output_type": "execute_result"
    }
   ],
   "source": [
    "from nltk.corpus import gutenberg\n",
    "gutenberg.fileids()"
   ]
  },
  {
   "cell_type": "code",
   "execution_count": 3,
   "metadata": {
    "collapsed": false
   },
   "outputs": [
    {
     "data": {
      "text/plain": [
       "[['[', 'The', 'Ball', 'and', 'The', 'Cross', 'by', 'G', '.', 'K', '.', 'Chesterton', '1909', ']'], ['I', '.'], ...]"
      ]
     },
     "execution_count": 3,
     "metadata": {},
     "output_type": "execute_result"
    }
   ],
   "source": [
    "# list_sent is a list of sentences in the given book\n",
    "list_sent = gutenberg.sents('chesterton-ball.txt')\n",
    "list_sent"
   ]
  },
  {
   "cell_type": "code",
   "execution_count": 4,
   "metadata": {
    "collapsed": false
   },
   "outputs": [
    {
     "name": "stdout",
     "output_type": "stream",
     "text": [
      "Number of sentences in the book: 4779\n"
     ]
    }
   ],
   "source": [
    "# number of sentences in the book\n",
    "num_sent = len(list_sent)\n",
    "print('Number of sentences in the book:',num_sent)"
   ]
  },
  {
   "cell_type": "code",
   "execution_count": 5,
   "metadata": {
    "collapsed": true
   },
   "outputs": [],
   "source": [
    "# empty list to store length of each sentence\n",
    "sent_len = []"
   ]
  },
  {
   "cell_type": "code",
   "execution_count": 6,
   "metadata": {
    "collapsed": false
   },
   "outputs": [
    {
     "name": "stdout",
     "output_type": "stream",
     "text": [
      "List of sentence lengths: [14, 2, 6, 32, 29, 18, 28, 57, 29, 20, 18, 27, 31, 24, 18, 53, 14, 16, 61, 52, 54, 26, 23, 42, 14, 4, 8, 50, 35, 7, 33, 13, 19, 28, 11, 15, 19, 18, 14, 42, 38, 21, 25, 25, 77, 19, 7, 41, 3, 8, 19, 20, 23, 18, 39, 13, 15, 13, 18, 15, 20, 21, 24, 6, 8, 23, 90, 36, 24, 33, 19, 15, 17, 26, 16, 27, 36, 33, 29, 24, 14, 30, 23, 22, 18, 22, 22, 3, 3, 13, 15, 41, 8, 23, 10, 16, 5, 5, 23, 14, 18, 2, 18, 26, 5, 11, 14, 8, 21, 16, 7, 10, 19, 15, 14, 48, 14, 19, 8, 5, 16, 6, 10, 13, 28, 19, 3, 32, 12, 60, 24, 7, 3, 5, 18, 32, 23, 5, 19, 30, 6, 14, 30, 28, 28, 36, 35, 25, 38, 17, 16, 14, 12, 24, 26, 11, 11, 7, 10, 7, 3, 10, 6, 11, 18, 15, 19, 13, 13, 20, 14, 13, 7, 5, 25, 22, 20, 3, 2, 17, 25, 12, 5, 3, 3, 7, 4, 5, 21, 4, 11, 15, 11, 8, 16, 20, 31, 25, 21, 37, 34, 34, 48, 17, 43, 19, 22, 28, 45, 28, 20, 19, 21, 11, 25, 20, 59, 16, 21, 34, 22, 25, 31, 17, 26, 16, 11, 54, 27, 54, 21, 26, 55, 19, 29, 26, 11, 32, 29, 14, 23, 37, 9, 16, 41, 46, 14, 20, 19, 37, 19, 12, 17, 34, 12, 21, 32, 20, 7, 21, 12, 18, 11, 31, 25, 23, 54, 19, 21, 7, 6, 18, 37, 12, 65, 9, 37, 31, 30, 26, 24, 23, 44, 14, 33, 15, 31, 12, 48, 19, 7, 7, 9, 28, 10, 5, 10, 9, 11, 7, 14, 19, 34, 21, 14, 20, 38, 22, 13, 16, 9, 8, 12, 7, 31, 21, 14, 2, 6, 24, 8, 31, 34, 36, 33, 25, 11, 20, 2, 37, 7, 27, 15, 50, 26, 18, 15, 25, 27, 10, 14, 22, 29, 16, 21, 37, 52, 34, 37, 39, 19, 32, 15, 27, 26, 24, 12, 20, 18, 18, 18, 26, 21, 22, 25, 25, 14, 9, 11, 9, 23, 45, 22, 26, 24, 17, 19, 15, 26, 36, 28, 22, 21, 14, 17, 25, 29, 58, 43, 33, 55, 11, 40, 42, 27, 43, 29, 23, 12, 8, 6, 25, 5, 12, 8, 15, 10, 10, 6, 5, 5, 4, 3, 19, 8, 14, 13, 15, 7, 18, 30, 14, 28, 48, 16, 43, 17, 42, 62, 19, 16, 16, 18, 33, 3, 18, 7, 6, 10, 6, 19, 26, 31, 14, 38, 17, 4, 15, 38, 25, 4, 5, 14, 15, 17, 14, 25, 7, 51, 10, 12, 3, 9, 14, 13, 19, 11, 6, 7, 14, 19, 22, 28, 14, 19, 34, 22, 10, 9, 6, 3, 9, 9, 6, 8, 15, 6, 19, 6, 24, 14, 34, 40, 20, 53, 5, 19, 17, 13, 17, 36, 27, 13, 25, 41, 15, 20, 19, 24, 9, 9, 11, 81, 9, 20, 9, 20, 17, 13, 9, 7, 9, 29, 25, 32, 7, 35, 3, 15, 40, 5, 13, 26, 14, 15, 9, 6, 9, 15, 4, 19, 43, 16, 17, 21, 12, 4, 20, 6, 4, 21, 7, 6, 7, 23, 23, 11, 29, 7, 8, 8, 7, 28, 16, 12, 7, 15, 12, 21, 29, 36, 7, 12, 2, 3, 31, 22, 62, 39, 49, 67, 64, 39, 11, 22, 25, 23, 42, 32, 43, 29, 16, 64, 31, 11, 6, 27, 11, 38, 14, 12, 19, 33, 19, 25, 24, 25, 12, 7, 3, 6, 8, 8, 17, 11, 12, 12, 14, 21, 9, 10, 10, 11, 6, 12, 27, 6, 6, 6, 12, 19, 18, 21, 12, 20, 3, 15, 36, 32, 14, 51, 16, 19, 18, 23, 24, 6, 17, 38, 37, 7, 11, 7, 3, 7, 20, 3, 5, 13, 17, 11, 5, 38, 29, 22, 20, 20, 20, 29, 15, 40, 25, 6, 5, 24, 21, 4, 10, 7, 3, 4, 26, 14, 44, 23, 49, 26, 11, 14, 21, 31, 3, 2, 2, 2, 2, 13, 4, 3, 9, 41, 24, 32, 12, 11, 13, 5, 60, 34, 48, 16, 22, 15, 40, 21, 34, 23, 10, 34, 5, 44, 6, 12, 6, 7, 20, 2, 11, 31, 41, 25, 11, 14, 15, 34, 21, 8, 37, 16, 30, 11, 10, 24, 31, 20, 13, 49, 27, 22, 21, 36, 39, 15, 9, 10, 4, 8, 7, 35, 22, 24, 11, 18, 15, 34, 23, 7, 10, 15, 11, 13, 22, 13, 21, 21, 20, 19, 16, 41, 26, 12, 14, 27, 16, 8, 13, 53, 23, 38, 25, 10, 20, 19, 17, 8, 11, 16, 8, 7, 6, 9, 2, 4, 20, 23, 33, 11, 68, 28, 14, 17, 30, 24, 14, 31, 10, 21, 21, 14, 27, 49, 33, 22, 34, 33, 43, 65, 24, 18, 32, 2, 23, 5, 2, 21, 2, 35, 30, 35, 36, 16, 25, 21, 36, 26, 49, 37, 56, 46, 33, 58, 24, 77, 31, 19, 34, 22, 17, 11, 31, 25, 28, 18, 24, 9, 24, 9, 36, 29, 12, 9, 13, 9, 12, 17, 35, 18, 46, 23, 13, 3, 4, 3, 18, 34, 30, 44, 41, 14, 12, 9, 6, 3, 32, 6, 21, 9, 35, 11, 3, 14, 20, 13, 21, 21, 18, 8, 10, 20, 8, 11, 10, 11, 6, 3, 27, 18, 3, 28, 13, 45, 15, 15, 19, 6, 28, 9, 21, 27, 27, 20, 18, 34, 19, 17, 25, 14, 48, 23, 47, 12, 19, 9, 3, 3, 9, 8, 11, 10, 9, 56, 20, 19, 13, 8, 4, 12, 9, 2, 13, 10, 15, 21, 8, 8, 5, 10, 37, 12, 14, 7, 19, 9, 11, 9, 3, 10, 8, 5, 18, 19, 10, 9, 14, 8, 2, 19, 8, 25, 26, 21, 7, 6, 13, 8, 12, 33, 4, 9, 20, 14, 10, 9, 35, 23, 28, 12, 13, 8, 9, 19, 30, 12, 15, 7, 6, 7, 4, 12, 27, 36, 9, 30, 18, 30, 16, 20, 13, 8, 25, 16, 20, 47, 15, 8, 15, 21, 16, 29, 12, 15, 20, 33, 13, 16, 25, 32, 34, 51, 24, 9, 34, 29, 20, 5, 27, 22, 10, 8, 18, 13, 9, 22, 12, 13, 9, 8, 3, 23, 30, 29, 30, 28, 4, 23, 43, 11, 14, 23, 22, 11, 33, 13, 24, 20, 19, 18, 11, 27, 9, 21, 20, 24, 48, 39, 44, 54, 47, 17, 24, 14, 12, 20, 15, 15, 11, 8, 8, 22, 12, 5, 4, 3, 12, 13, 10, 23, 5, 11, 20, 23, 13, 8, 4, 25, 46, 34, 17, 11, 23, 7, 12, 7, 4, 11, 8, 18, 6, 8, 11, 17, 19, 23, 19, 14, 22, 60, 6, 6, 5, 9, 9, 13, 13, 18, 17, 21, 32, 42, 28, 8, 12, 7, 22, 22, 7, 8, 9, 19, 8, 8, 12, 12, 19, 36, 13, 15, 9, 17, 14, 17, 21, 28, 19, 12, 18, 11, 28, 6, 20, 7, 8, 11, 3, 10, 11, 12, 23, 9, 10, 21, 22, 16, 15, 18, 34, 11, 10, 6, 42, 3, 23, 3, 12, 16, 16, 21, 18, 12, 30, 17, 12, 33, 20, 16, 8, 19, 3, 28, 16, 15, 6, 6, 9, 3, 2, 4, 19, 9, 2, 3, 22, 20, 53, 16, 31, 20, 34, 12, 6, 6, 7, 10, 6, 11, 3, 3, 17, 20, 14, 5, 9, 34, 18, 10, 17, 19, 9, 8, 4, 29, 4, 4, 10, 2, 18, 23, 15, 12, 9, 6, 9, 25, 9, 11, 16, 15, 9, 5, 3, 15, 37, 22, 12, 25, 21, 23, 28, 21, 49, 34, 28, 19, 22, 18, 14, 4, 9, 33, 49, 28, 10, 15, 5, 17, 43, 36, 31, 32, 40, 16, 17, 11, 8, 3, 8, 6, 13, 22, 29, 33, 19, 17, 10, 6, 14, 17, 33, 25, 32, 27, 23, 23, 13, 24, 7, 14, 17, 5, 12, 16, 23, 24, 24, 30, 19, 7, 9, 19, 18, 12, 25, 25, 6, 8, 4, 4, 15, 27, 26, 15, 24, 3, 28, 8, 11, 13, 17, 22, 19, 6, 20, 17, 22, 25, 11, 10, 39, 3, 9, 9, 15, 16, 3, 3, 14, 15, 10, 10, 13, 3, 11, 21, 8, 4, 3, 9, 9, 8, 17, 9, 13, 22, 2, 2, 28, 23, 3, 10, 19, 20, 4, 19, 4, 22, 22, 2, 3, 32, 30, 37, 24, 22, 4, 5, 4, 6, 14, 27, 12, 17, 25, 34, 14, 26, 13, 23, 15, 17, 11, 12, 5, 6, 36, 7, 32, 34, 18, 69, 20, 17, 25, 19, 20, 15, 9, 20, 14, 25, 18, 28, 19, 19, 19, 20, 2, 2, 10, 13, 8, 4, 13, 5, 3, 4, 51, 35, 18, 7, 17, 15, 7, 13, 11, 11, 31, 17, 19, 8, 35, 16, 16, 19, 29, 8, 7, 36, 17, 9, 16, 27, 13, 7, 17, 32, 11, 11, 6, 3, 7, 17, 12, 27, 3, 9, 5, 14, 19, 15, 13, 14, 12, 14, 10, 14, 5, 12, 10, 15, 35, 27, 4, 14, 7, 6, 2, 2, 2, 18, 16, 21, 10, 22, 8, 21, 12, 33, 18, 48, 35, 34, 15, 24, 13, 2, 10, 40, 10, 4, 9, 8, 17, 8, 18, 6, 17, 18, 23, 22, 15, 12, 13, 6, 3, 15, 16, 22, 25, 30, 15, 44, 3, 10, 10, 60, 31, 13, 7, 7, 9, 7, 12, 9, 11, 10, 17, 18, 19, 29, 13, 7, 24, 35, 30, 40, 36, 28, 20, 22, 60, 26, 45, 21, 14, 8, 27, 17, 5, 49, 12, 21, 16, 17, 5, 15, 11, 3, 15, 12, 23, 27, 26, 29, 29, 13, 24, 6, 21, 13, 9, 24, 29, 9, 11, 9, 6, 3, 9, 6, 8, 39, 8, 15, 17, 3, 7, 25, 35, 10, 15, 12, 15, 8, 10, 39, 15, 19, 13, 12, 27, 13, 12, 9, 15, 3, 2, 4, 6, 11, 34, 13, 3, 3, 30, 7, 18, 21, 17, 8, 8, 8, 24, 6, 9, 14, 19, 33, 36, 17, 9, 10, 47, 15, 21, 11, 8, 32, 12, 2, 3, 3, 4, 16, 6, 19, 19, 15, 5, 16, 6, 4, 10, 17, 15, 12, 19, 14, 12, 11, 8, 18, 8, 11, 13, 40, 11, 14, 9, 6, 25, 26, 37, 19, 31, 61, 13, 20, 14, 20, 15, 3, 6, 3, 7, 2, 10, 2, 18, 6, 27, 15, 11, 7, 15, 23, 3, 8, 3, 5, 6, 7, 6, 8, 19, 14, 4, 11, 10, 11, 15, 12, 8, 9, 11, 16, 15, 22, 15, 11, 23, 8, 6, 19, 17, 4, 12, 29, 7, 3, 6, 7, 3, 8, 4, 7, 18, 19, 2, 4, 37, 6, 27, 15, 29, 28, 22, 36, 18, 56, 40, 29, 10, 8, 20, 4, 28, 8, 3, 13, 41, 23, 42, 22, 24, 15, 22, 13, 13, 22, 13, 30, 23, 33, 21, 14, 16, 19, 53, 7, 7, 8, 18, 19, 37, 37, 9, 51, 5, 27, 24, 8, 18, 15, 20, 24, 35, 32, 9, 9, 6, 28, 13, 17, 24, 20, 22, 17, 20, 34, 37, 16, 45, 7, 4, 18, 26, 28, 24, 17, 41, 17, 10, 17, 22, 7, 8, 24, 25, 12, 51, 15, 15, 4, 5, 6, 10, 3, 26, 9, 22, 10, 5, 35, 9, 35, 19, 30, 9, 33, 152, 44, 40, 25, 34, 16, 14, 11, 38, 14, 14, 20, 14, 30, 13, 16, 24, 12, 14, 2, 3, 32, 16, 25, 31, 9, 30, 21, 18, 13, 13, 13, 17, 18, 8, 24, 13, 40, 13, 20, 13, 3, 3, 12, 11, 6, 42, 17, 15, 49, 13, 40, 11, 14, 12, 37, 26, 32, 51, 20, 11, 24, 11, 15, 15, 14, 23, 41, 12, 31, 38, 41, 43, 45, 25, 37, 21, 28, 8, 8, 26, 60, 28, 24, 38, 35, 31, 36, 31, 18, 48, 12, 3, 27, 15, 25, 32, 30, 14, 46, 24, 18, 27, 36, 19, 25, 20, 39, 28, 50, 25, 21, 15, 36, 25, 14, 28, 31, 64, 27, 41, 27, 20, 30, 19, 27, 29, 50, 15, 14, 31, 12, 27, 29, 18, 9, 30, 15, 46, 17, 22, 19, 36, 12, 22, 25, 21, 17, 40, 42, 44, 43, 49, 36, 26, 21, 47, 42, 25, 34, 23, 19, 39, 15, 40, 30, 20, 40, 100, 13, 34, 31, 30, 33, 6, 19, 24, 29, 38, 19, 15, 6, 12, 20, 7, 26, 21, 19, 3, 12, 15, 14, 43, 23, 33, 32, 35, 54, 29, 19, 20, 23, 44, 43, 27, 15, 22, 27, 22, 18, 14, 33, 25, 26, 21, 6, 43, 71, 35, 15, 21, 5, 30, 18, 9, 30, 15, 48, 32, 23, 7, 9, 15, 16, 7, 7, 9, 10, 4, 10, 19, 53, 6, 36, 12, 30, 33, 7, 24, 50, 18, 14, 27, 28, 25, 23, 19, 33, 33, 23, 25, 28, 8, 18, 30, 25, 28, 34, 52, 50, 56, 2, 3, 45, 43, 29, 43, 43, 17, 19, 4, 3, 50, 42, 18, 29, 13, 26, 20, 22, 12, 17, 37, 11, 7, 6, 18, 14, 15, 31, 33, 28, 25, 4, 18, 5, 29, 6, 3, 18, 24, 24, 28, 36, 20, 20, 16, 23, 14, 27, 6, 8, 14, 38, 21, 45, 13, 30, 22, 20, 17, 15, 27, 24, 10, 34, 15, 14, 11, 24, 24, 21, 9, 32, 50, 15, 33, 8, 26, 34, 35, 24, 17, 24, 18, 18, 12, 43, 35, 16, 23, 39, 19, 23, 12, 25, 38, 15, 34, 18, 41, 6, 36, 16, 90, 17, 11, 35, 29, 47, 52, 19, 15, 26, 33, 58, 15, 23, 22, 56, 24, 48, 29, 14, 12, 10, 9, 32, 30, 13, 7, 21, 24, 30, 50, 45, 10, 16, 15, 18, 10, 10, 33, 6, 25, 29, 22, 13, 12, 10, 21, 26, 14, 8, 58, 33, 15, 10, 14, 14, 22, 28, 21, 36, 25, 14, 3, 19, 7, 8, 6, 15, 34, 16, 16, 35, 20, 29, 41, 29, 60, 27, 15, 21, 14, 21, 24, 19, 52, 28, 23, 14, 23, 27, 39, 30, 47, 18, 3, 47, 64, 35, 49, 60, 30, 41, 24, 34, 57, 35, 41, 36, 37, 26, 16, 52, 16, 32, 31, 16, 26, 14, 21, 45, 41, 3, 14, 6, 11, 11, 6, 28, 6, 24, 5, 15, 12, 22, 3, 16, 5, 24, 14, 18, 16, 34, 16, 20, 6, 17, 31, 3, 32, 24, 28, 12, 21, 31, 14, 32, 25, 27, 16, 24, 43, 27, 26, 33, 48, 11, 34, 14, 44, 20, 14, 9, 23, 37, 24, 13, 15, 27, 24, 13, 40, 15, 4, 10, 18, 17, 28, 19, 33, 53, 46, 31, 61, 15, 59, 38, 22, 18, 51, 12, 17, 6, 5, 32, 2, 5, 36, 15, 20, 29, 27, 53, 46, 14, 16, 27, 39, 29, 30, 25, 14, 26, 31, 54, 22, 6, 23, 49, 48, 58, 22, 29, 31, 43, 40, 60, 35, 20, 35, 26, 11, 15, 7, 37, 21, 18, 34, 13, 20, 52, 22, 54, 34, 29, 25, 23, 30, 25, 15, 40, 21, 31, 35, 12, 36, 45, 46, 47, 37, 47, 37, 22, 23, 18, 8, 36, 41, 25, 26, 43, 25, 18, 15, 23, 12, 35, 22, 19, 19, 31, 21, 24, 49, 15, 13, 15, 20, 46, 29, 36, 32, 34, 18, 42, 55, 23, 26, 25, 22, 26, 55, 48, 14, 25, 25, 25, 27, 20, 12, 13, 27, 35, 18, 10, 6, 10, 18, 18, 16, 8, 32, 10, 10, 39, 22, 10, 19, 17, 13, 7, 8, 12, 16, 36, 19, 43, 31, 21, 17, 38, 14, 15, 9, 33, 11, 22, 11, 20, 16, 7, 7, 15, 31, 29, 14, 27, 24, 9, 34, 20, 18, 27, 25, 31, 20, 8, 6, 14, 8, 24, 11, 15, 12, 23, 17, 9, 10, 3, 33, 31, 15, 33, 15, 48, 11, 15, 35, 34, 17, 17, 3, 17, 7, 21, 31, 16, 26, 22, 10, 14, 13, 40, 27, 34, 10, 41, 23, 34, 18, 11, 12, 36, 21, 29, 10, 37, 11, 7, 2, 9, 30, 121, 18, 18, 17, 26, 45, 10, 35, 17, 26, 37, 34, 41, 2, 3, 65, 50, 40, 14, 40, 16, 33, 53, 6, 10, 29, 18, 7, 31, 29, 31, 41, 54, 31, 61, 15, 27, 18, 28, 22, 80, 9, 13, 16, 10, 10, 6, 3, 24, 26, 31, 16, 17, 28, 29, 3, 9, 41, 34, 16, 42, 15, 20, 41, 23, 25, 18, 11, 22, 21, 34, 14, 12, 45, 38, 28, 10, 38, 39, 62, 16, 16, 20, 13, 54, 13, 16, 54, 46, 4, 18, 10, 17, 43, 40, 45, 39, 26, 35, 37, 32, 53, 24, 20, 16, 21, 39, 25, 4, 19, 6, 17, 4, 9, 5, 13, 12, 20, 15, 48, 13, 24, 26, 27, 35, 28, 19, 16, 33, 12, 26, 12, 9, 7, 7, 9, 8, 15, 23, 23, 51, 38, 19, 9, 21, 48, 65, 14, 35, 13, 26, 7, 10, 40, 2, 4, 21, 14, 15, 33, 23, 30, 36, 37, 74, 60, 22, 19, 11, 11, 56, 16, 30, 30, 8, 20, 34, 24, 33, 5, 14, 35, 19, 15, 3, 37, 49, 33, 30, 48, 14, 36, 43, 13, 14, 3, 41, 13, 34, 48, 43, 46, 34, 31, 40, 39, 23, 22, 44, 36, 19, 30, 56, 31, 19, 17, 16, 27, 22, 18, 46, 37, 38, 32, 41, 24, 26, 34, 22, 8, 6, 3, 31, 8, 8, 5, 14, 26, 29, 24, 16, 16, 5, 34, 32, 15, 25, 12, 34, 10, 18, 8, 28, 46, 16, 55, 27, 11, 16, 37, 4, 9, 4, 21, 9, 24, 16, 29, 6, 14, 17, 44, 34, 26, 4, 25, 5, 17, 5, 4, 21, 18, 13, 9, 5, 8, 6, 17, 5, 11, 8, 7, 23, 29, 11, 8, 7, 23, 12, 4, 3, 10, 14, 4, 19, 5, 7, 19, 28, 26, 34, 6, 17, 53, 2, 4, 32, 15, 29, 41, 10, 17, 12, 6, 50, 28, 17, 21, 22, 10, 13, 8, 33, 18, 9, 15, 69, 49, 28, 47, 18, 15, 21, 20, 35, 43, 24, 30, 18, 7, 8, 7, 17, 15, 3, 24, 7, 31, 15, 3, 8, 21, 6, 5, 7, 6, 11, 16, 29, 39, 11, 11, 9, 7, 29, 7, 8, 4, 8, 5, 8, 5, 11, 40, 17, 20, 15, 24, 16, 6, 11, 14, 26, 18, 21, 24, 14, 7, 13, 31, 20, 7, 19, 12, 16, 26, 17, 11, 32, 29, 26, 32, 27, 7, 7, 41, 10, 18, 14, 12, 13, 12, 8, 3, 29, 14, 24, 15, 19, 18, 28, 31, 58, 23, 30, 10, 9, 9, 20, 13, 17, 17, 13, 16, 55, 3, 33, 23, 22, 25, 35, 2, 21, 13, 9, 24, 25, 19, 28, 10, 11, 7, 6, 11, 22, 13, 11, 7, 7, 17, 3, 12, 18, 15, 35, 19, 20, 22, 9, 5, 22, 14, 7, 4, 12, 28, 24, 6, 7, 18, 15, 30, 16, 10, 10, 32, 7, 10, 14, 23, 44, 5, 22, 18, 30, 8, 11, 21, 17, 29, 13, 7, 26, 35, 16, 20, 29, 8, 25, 14, 8, 15, 10, 7, 16, 39, 19, 7, 5, 11, 6, 3, 14, 23, 59, 23, 14, 40, 12, 26, 26, 40, 61, 4, 3, 6, 24, 25, 27, 39, 12, 32, 33, 51, 35, 4, 6, 9, 47, 40, 21, 21, 11, 24, 9, 7, 25, 12, 11, 23, 12, 27, 30, 22, 13, 7, 6, 8, 9, 12, 21, 8, 7, 9, 20, 31, 22, 9, 23, 13, 8, 15, 7, 9, 3, 6, 3, 17, 15, 25, 17, 21, 16, 17, 20, 17, 13, 10, 14, 33, 33, 29, 16, 13, 17, 6, 22, 30, 16, 42, 6, 3, 33, 8, 8, 10, 8, 11, 22, 2, 4, 27, 24, 17, 30, 26, 30, 12, 27, 17, 21, 30, 48, 55, 23, 15, 21, 42, 6, 29, 20, 55, 17, 10, 37, 5, 24, 30, 24, 41, 13, 19, 39, 5, 18, 47, 16, 24, 30, 16, 6, 10, 25, 15, 35, 33, 20, 11, 15, 22, 11, 19, 9, 21, 8, 25, 14, 18, 13, 20, 19, 23, 12, 4, 10, 7, 3, 20, 11, 49, 9, 3, 10, 10, 26, 21, 21, 18, 18, 22, 13, 59, 31, 37, 18, 16, 37, 29, 14, 34, 26, 33, 36, 15, 12, 22, 12, 6, 36, 42, 15, 24, 19, 16, 17, 10, 15, 17, 13, 4, 16, 26, 4, 7, 24, 16, 7, 28, 36, 3, 23, 25, 8, 6, 6, 11, 26, 16, 6, 15, 8, 6, 6, 19, 22, 37, 21, 3, 3, 3, 9, 5, 10, 5, 17, 2, 4, 30, 42, 24, 18, 9, 56, 49, 41, 24, 55, 27, 31, 43, 23, 29, 19, 54, 42, 74, 76, 92, 33, 13, 28, 44, 18, 46, 13, 22, 33, 84, 6, 3, 56, 58, 17, 23, 44, 22, 6, 15, 25, 8, 18, 6, 51, 3, 5, 24, 28, 33, 19, 11, 20, 19, 20, 12, 10, 9, 3, 26, 18, 16, 31, 13, 12, 11, 42, 37, 13, 17, 39, 13, 20, 12, 10, 6, 21, 17, 15, 11, 15, 15, 15, 17, 7, 10, 32, 27, 6, 14, 4, 3, 8, 16, 52, 20, 14, 8, 6, 26, 8, 10, 16, 21, 35, 21, 21, 14, 15, 19, 22, 5, 27, 13, 23, 6, 16, 30, 12, 21, 38, 35, 39, 23, 15, 19, 18, 13, 7, 13, 9, 10, 18, 19, 24, 29, 27, 15, 7, 5, 7, 14, 10, 5, 10, 3, 6, 17, 19, 24, 17, 30, 8, 14, 4, 4, 30, 13, 19, 8, 10, 46, 17, 24, 29, 47, 15, 5, 3, 9, 16, 5, 13, 11, 5, 10, 5, 10, 8, 15, 8, 13, 4, 24, 19, 19, 7, 10, 10, 5, 48, 10, 9, 12, 10, 4, 26, 12, 23, 23, 23, 17, 3, 4, 14, 29, 18, 31, 17, 8, 15, 19, 6, 16, 32, 19, 35, 41, 32, 2, 2, 15, 42, 21, 15, 27, 7, 7, 8, 8, 15, 16, 7, 27, 30, 14, 15, 7, 29, 9, 5, 5, 18, 33, 36, 20, 17, 16, 10, 11, 9, 13, 4, 18, 21, 21, 10, 31, 19, 12, 15, 19, 11, 23, 10, 16, 60, 66, 13, 20, 21, 21, 33, 26, 30, 26, 25, 26, 46, 14, 35, 18, 27, 24, 33, 16, 37, 31, 21, 10, 17, 31, 26, 30, 18, 19, 9, 21, 21, 18, 15, 13, 52, 13, 6, 13, 8, 15, 35, 13, 15, 28, 10, 48, 18, 15, 16, 13, 21, 34, 31, 31, 22, 24, 30, 17, 20, 24, 25, 42, 31, 20, 23, 21, 31, 21, 79, 38, 20, 41, 27, 47, 13, 16, 25, 44, 36, 38, 16, 12, 19, 13, 18, 44, 48, 26, 23, 27, 42, 31, 5, 18, 15, 18, 20, 35, 11, 6, 11, 20, 9, 21, 13, 22, 22, 19, 17, 27, 27, 8, 9, 8, 10, 21, 6, 10, 26, 18, 12, 6, 3, 13, 16, 27, 37, 20, 45, 40, 30, 25, 10, 6, 3, 8, 10, 20, 9, 25, 26, 35, 24, 19, 45, 36, 29, 25, 21, 4, 32, 23, 41, 17, 49, 69, 25, 38, 41, 29, 36, 30, 16, 23, 6, 19, 22, 33, 34, 13, 19, 25, 11, 7, 4, 19, 4, 8, 19, 14, 17, 8, 6, 6, 22, 12, 10, 3, 12, 7, 5, 29, 18, 15, 13, 4, 37, 6, 3, 15, 11, 9, 5, 12, 12, 27, 24, 2, 6, 7, 3, 31, 23, 13, 15, 7, 9, 20, 25, 29, 27, 36, 72, 33, 37, 13, 29, 38, 45, 2, 4, 54, 44, 36, 26, 19, 8, 20, 12, 22, 22, 16, 24, 26, 9, 10, 23, 30, 32, 27, 16, 32, 26, 14, 20, 35, 27, 31, 13, 15, 5, 17, 15, 22, 22, 24, 15, 22, 6, 5, 17, 30, 28, 21, 41, 19, 46, 26, 7, 29, 12, 29, 41, 17, 28, 2, 3, 6, 12, 9, 21, 5, 5, 8, 35, 25, 15, 24, 9, 5, 15, 13, 20, 22, 42, 36, 45, 28, 38, 45, 13, 25, 34, 25, 21, 14, 37, 28, 26, 47, 13, 21, 3, 5, 4, 10, 27, 20, 30, 11, 4, 9, 9, 35, 26, 33, 9, 18, 8, 18, 3, 6, 3, 4, 27, 11, 13, 22, 29, 6, 3, 16, 24, 9, 7, 10, 3, 6, 32, 10, 10, 7, 31, 30, 19, 4, 11, 14, 40, 52, 30, 24, 20, 23, 32, 12, 38, 32, 47, 27, 34, 23, 38, 13, 24, 9, 3, 5, 6, 6, 21, 33, 40, 25, 25, 5, 24, 30, 4, 6, 5, 20, 30, 28, 51, 23, 10, 14, 34, 32, 32, 59, 22, 7, 3, 22, 12, 26, 14, 44, 54, 13, 20, 7, 29, 29, 34, 9, 13, 9, 6, 23, 52, 11, 30, 16, 25, 38, 33, 30, 30, 5, 8, 18, 21, 21, 34, 17, 19, 13, 17, 18, 15, 40, 86, 34, 9, 28, 16, 26, 39, 28, 29, 7, 16, 9, 14, 19, 13, 11, 2, 3, 24, 37, 8, 13, 13, 11, 13, 5, 16, 21, 18, 14, 36, 20, 26, 29, 24, 27, 39, 28, 9, 2, 29, 13, 17, 56, 6, 26, 14, 25, 11, 23, 2, 29, 38, 25, 9, 26, 8, 17, 23, 15, 17, 33, 14, 5, 9, 37, 19, 24, 13, 26, 23, 19, 20, 18, 31, 22, 7, 5, 11, 16, 11, 30, 9, 13, 18, 12, 12, 19, 7, 5, 26, 24, 12, 6, 31, 5, 16, 10, 4, 14, 10, 9, 9, 15, 30, 9, 7, 6, 3, 19, 24, 18, 5, 3, 9, 28, 7, 5, 15, 25, 26, 8, 11, 24, 12, 32, 14, 19, 9, 6, 15, 5, 19, 36, 12, 14, 15, 13, 17, 18, 21, 14, 9, 7, 26, 13, 16, 13, 20, 16, 19, 20, 8, 11, 14, 5, 7, 17, 16, 17, 6, 12, 10, 9, 23, 11, 9, 14, 8, 33, 19, 19, 28, 8, 18, 17, 7, 8, 8, 3, 27, 22, 7, 12, 19, 25, 18, 21, 22, 32, 3, 3, 26, 10, 25, 10, 25, 42, 15, 17, 18, 11, 15, 33, 15, 6, 3, 16, 12, 29, 26, 2, 2, 26, 46, 22, 12, 50, 39, 23, 27, 26, 27, 45, 32, 23, 15, 21, 20, 20, 14, 17, 27, 27, 30, 5, 21, 21, 13, 23, 23, 57, 15, 27, 16, 22, 28, 7, 21, 16, 19, 17, 14, 7, 28, 20, 10, 14, 23, 23, 9, 3, 7, 7, 29, 14, 8, 6, 6, 8, 51, 8, 32, 48, 18, 44, 46, 25, 28, 15, 12, 12, 14, 22, 37, 6, 8, 9, 22, 47, 23, 21, 22, 25, 47, 15, 33, 7, 24, 7, 44, 23, 32, 16, 39, 28, 39, 16, 23, 7, 9, 9, 6, 10, 8, 3, 8, 4, 28, 33, 18, 14, 17, 14, 18, 20, 9, 5, 19, 18, 23, 13, 10, 34, 12, 19, 6, 43, 31, 15, 11, 27, 17, 13, 13, 7, 14, 24, 7, 11, 22, 9, 3, 39, 31, 32, 14, 16, 23, 5, 29, 3, 12, 12, 7, 3, 5, 17, 31, 10, 26, 16, 25, 4, 18, 24, 5, 6, 14, 25, 24, 9, 3, 6, 11, 14, 26, 34, 28, 22, 32, 8, 19, 9, 23, 36, 25, 39, 19, 28, 24, 33, 30, 20, 58, 44, 24, 18, 9, 21, 19, 22, 38, 15, 8, 8, 55, 43, 11, 53, 13, 24, 21, 12, 48, 12, 5, 7, 4, 4, 13, 11, 5, 12, 43, 18, 13, 37, 11, 29, 16, 25, 20, 24, 25, 21, 22, 36, 1, 24, 34, 29, 29, 20, 8, 12, 38, 9, 90, 13, 26, 12, 3, 41, 21, 8, 116, 19, 26, 13, 11, 17, 26, 38, 46, 11, 17, 22, 35, 13, 29, 8, 11, 11, 1, 16, 11, 10, 10, 6, 4, 7, 15, 3, 5, 44, 11, 9, 17, 3, 36, 2, 40, 23, 45, 27, 17, 25, 18, 20, 21, 55, 111, 47, 30, 22, 12, 42, 38, 91, 35, 10, 10, 23, 2, 47, 63, 43, 41, 16, 2, 33, 13, 37, 17, 18, 24, 20, 14, 25, 21, 13, 34, 6, 15]\n"
     ]
    }
   ],
   "source": [
    "# adding length of each sentence to sent_len\n",
    "for line in range(0, len(list_sent)):\n",
    "    sent_len.append(len(list_sent[line]))\n",
    "    \n",
    "print('List of sentence lengths:',sent_len)"
   ]
  },
  {
   "cell_type": "code",
   "execution_count": 7,
   "metadata": {
    "collapsed": false
   },
   "outputs": [
    {
     "name": "stdout",
     "output_type": "stream",
     "text": [
      "Length of longest sentence: 152\n"
     ]
    }
   ],
   "source": [
    "# length of longest sentences\n",
    "longest_sent_len = max(sent_len)\n",
    "print('Length of longest sentence:', longest_sent_len)"
   ]
  },
  {
   "cell_type": "code",
   "execution_count": 8,
   "metadata": {
    "collapsed": false
   },
   "outputs": [
    {
     "name": "stdout",
     "output_type": "stream",
     "text": [
      "Index of longest sentence: 1929\n"
     ]
    }
   ],
   "source": [
    "# index of the longest sentence\n",
    "import numpy as np\n",
    "\n",
    "ind = np.argmax(sent_len)\n",
    "print('Index of longest sentence:',ind)"
   ]
  },
  {
   "cell_type": "code",
   "execution_count": 9,
   "metadata": {
    "collapsed": false
   },
   "outputs": [
    {
     "name": "stdout",
     "output_type": "stream",
     "text": [
      "['But', 'if', 'you', ',', 'and', 'a', 'few', 'feverish', 'men', ',', 'in', 'top', 'hats', ',', 'running', 'about', 'in', 'a', 'street', 'in', 'London', ',', 'choose', 'to', 'differ', 'as', 'to', 'the', 'ideal', 'itself', ',', 'not', 'only', 'from', 'the', 'Church', ',', 'but', 'from', 'the', 'Parthenon', 'whose', 'name', 'means', 'virginity', ',', 'from', 'the', 'Roman', 'Empire', 'which', 'went', 'outwards', 'from', 'the', 'virgin', 'flame', ',', 'from', 'the', 'whole', 'legend', 'and', 'tradition', 'of', 'Europe', ',', 'from', 'the', 'lion', 'who', 'will', 'not', 'touch', 'virgins', ',', 'from', 'the', 'unicorn', 'who', 'respects', 'them', ',', 'and', 'who', 'make', 'up', 'together', 'the', 'bearers', 'of', 'your', 'own', 'national', 'shield', ',', 'from', 'the', 'most', 'living', 'and', 'lawless', 'of', 'your', 'own', 'poets', ',', 'from', 'Massinger', ',', 'who', 'wrote', 'the', '_Virgin', 'Martyr_', ',', 'from', 'Shakespeare', ',', 'who', 'wrote', '_Measure', 'for', 'Measure_', '--', 'if', 'you', 'in', 'Fleet', 'Street', 'differ', 'from', 'all', 'this', 'human', 'experience', ',', 'does', 'it', 'never', 'strike', 'you', 'that', 'it', 'may', 'be', 'Fleet', 'Street', 'that', 'is', 'wrong', '?\"']\n"
     ]
    }
   ],
   "source": [
    "# longest sentence\n",
    "print(list_sent[ind])"
   ]
  },
  {
   "cell_type": "markdown",
   "metadata": {},
   "source": [
    "### Drawbacks of inbuilt functions\n",
    "Even though the functions in gutenberg object are quite useful we found some problems in some cases such as when the new sentences begin with '--' character and there is no space between the period of one sentence and the '--' character of a new sentence. This is shown below as encountered in the book 'Emma by Jane Austen'."
   ]
  },
  {
   "cell_type": "code",
   "execution_count": 10,
   "metadata": {
    "collapsed": false
   },
   "outputs": [
    {
     "name": "stdout",
     "output_type": "stream",
     "text": [
      "['While', 'he', 'lived', ',', 'it', 'must', 'be', 'only', 'an', 'engagement', ';', 'but', 'she', 'flattered', 'herself', ',', 'that', 'if', 'divested', 'of', 'the', 'danger', 'of', 'drawing', 'her', 'away', ',', 'it', 'might', 'become', 'an', 'increase', 'of', 'comfort', 'to', 'him', '.--', 'How', 'to', 'do', 'her', 'best', 'by', 'Harriet', ',', 'was', 'of', 'more', 'difficult', 'decision', ';--', 'how', 'to', 'spare', 'her', 'from', 'any', 'unnecessary', 'pain', ';', 'how', 'to', 'make', 'her', 'any', 'possible', 'atonement', ';', 'how', 'to', 'appear', 'least', 'her', 'enemy', '?--', 'On', 'these', 'subjects', ',', 'her', 'perplexity', 'and', 'distress', 'were', 'very', 'great', '--', 'and', 'her', 'mind', 'had', 'to', 'pass', 'again', 'and', 'again', 'through', 'every', 'bitter', 'reproach', 'and', 'sorrowful', 'regret', 'that', 'had', 'ever', 'surrounded', 'it', '.--', 'She', 'could', 'only', 'resolve', 'at', 'last', ',', 'that', 'she', 'would', 'still', 'avoid', 'a', 'meeting', 'with', 'her', ',', 'and', 'communicate', 'all', 'that', 'need', 'be', 'told', 'by', 'letter', ';', 'that', 'it', 'would', 'be', 'inexpressibly', 'desirable', 'to', 'have', 'her', 'removed', 'just', 'now', 'for', 'a', 'time', 'from', 'Highbury', ',', 'and', '--', 'indulging', 'in', 'one', 'scheme', 'more', '--', 'nearly', 'resolve', ',', 'that', 'it', 'might', 'be', 'practicable', 'to', 'get', 'an', 'invitation', 'for', 'her', 'to', 'Brunswick', 'Square', '.--', 'Isabella', 'had', 'been', 'pleased', 'with', 'Harriet', ';', 'and', 'a', 'few', 'weeks', 'spent', 'in', 'London', 'must', 'give', 'her', 'some', 'amusement', '.--', 'She', 'did', 'not', 'think', 'it', 'in', 'Harriet', \"'\", 's', 'nature', 'to', 'escape', 'being', 'benefited', 'by', 'novelty', 'and', 'variety', ',', 'by', 'the', 'streets', ',', 'the', 'shops', ',', 'and', 'the', 'children', '.--', 'At', 'any', 'rate', ',', 'it', 'would', 'be', 'a', 'proof', 'of', 'attention', 'and', 'kindness', 'in', 'herself', ',', 'from', 'whom', 'every', 'thing', 'was', 'due', ';', 'a', 'separation', 'for', 'the', 'present', ';', 'an', 'averting', 'of', 'the', 'evil', 'day', ',', 'when', 'they', 'must', 'all', 'be', 'together', 'again', '.']\n"
     ]
    }
   ],
   "source": [
    "emma = gutenberg.sents('austen-emma.txt')\n",
    "num_emma = len(emma)\n",
    "emma_sent_len = []\n",
    "for line in range(0, len(emma)):\n",
    "    emma_sent_len.append(len(emma[line]))\n",
    "\n",
    "# print(emma_sent_len)\n",
    "index = np.argmax(emma_sent_len)\n",
    "print(emma[index])"
   ]
  },
  {
   "cell_type": "markdown",
   "metadata": {
    "collapsed": true
   },
   "source": [
    "As can be seen in the above sentences, due to the presence of '--' characters immediately after '.' of last sentence, they are still considered as continuation of the same sentence. This defeats our purpose as it categorizes a group of sentences as one sentences.\n",
    "\n",
    "Although this problem can be easily solved by inserting a space between the 'period' and '--' on the raw text file, we cannot use the inbuilt functions of gutenberg object after this operation."
   ]
  },
  {
   "cell_type": "markdown",
   "metadata": {},
   "source": [
    "## Building histogram of sentence lengths and their occurences"
   ]
  },
  {
   "cell_type": "code",
   "execution_count": 11,
   "metadata": {
    "collapsed": false
   },
   "outputs": [
    {
     "name": "stdout",
     "output_type": "stream",
     "text": [
      "Counter({15: 193, 9: 170, 13: 169, 14: 166, 6: 164, 19: 164, 8: 163, 12: 158, 7: 157, 11: 153, 10: 152, 18: 151, 17: 149, 3: 146, 16: 142, 21: 140, 20: 133, 24: 127, 22: 123, 23: 121, 25: 117, 5: 110, 26: 101, 4: 95, 27: 91, 29: 89, 30: 82, 28: 79, 31: 74, 34: 72, 33: 70, 32: 60, 2: 57, 35: 56, 36: 54, 37: 49, 41: 38, 38: 35, 40: 34, 39: 32, 43: 31, 42: 26, 48: 25, 44: 23, 45: 21, 46: 21, 47: 21, 49: 18, 54: 14, 51: 13, 53: 12, 50: 12, 52: 11, 60: 11, 55: 11, 56: 10, 58: 8, 61: 5, 59: 5, 65: 4, 64: 4, 57: 3, 90: 3, 62: 3, 69: 3, 77: 2, 74: 2, 1: 2, 81: 1, 67: 1, 68: 1, 152: 1, 100: 1, 71: 1, 121: 1, 80: 1, 76: 1, 92: 1, 84: 1, 66: 1, 79: 1, 72: 1, 86: 1, 116: 1, 111: 1, 91: 1, 63: 1})\n"
     ]
    }
   ],
   "source": [
    "# grouping sentences of similar length\n",
    "from collections import Counter\n",
    "\n",
    "occurences = Counter(sent_len)\n",
    "print(occurences)"
   ]
  },
  {
   "cell_type": "code",
   "execution_count": 12,
   "metadata": {
    "collapsed": false
   },
   "outputs": [],
   "source": [
    "# arranging list of 'sentence lengths' in ascending order\n",
    "\n",
    "sort_sent_len = sorted(sent_len)"
   ]
  },
  {
   "cell_type": "code",
   "execution_count": 13,
   "metadata": {
    "collapsed": false
   },
   "outputs": [],
   "source": [
    "# grouping sentences of similar lengths in ascending order\n",
    "sort_occurence = Counter(sort_sent_len)"
   ]
  },
  {
   "cell_type": "code",
   "execution_count": 14,
   "metadata": {
    "collapsed": false
   },
   "outputs": [
    {
     "data": {
      "image/png": "[encoded data removed]",
      "text/plain": [
       "<matplotlib.figure.Figure at 0x7fb7c8b6c6d8>"
      ]
     },
     "metadata": {},
     "output_type": "display_data"
    }
   ],
   "source": [
    "# plotting the histogram of grouped sentence lengths in ascending order\n",
    "import numpy as np\n",
    "import matplotlib.pyplot as plt\n",
    "labels, values = zip(*sort_occurence.items())\n",
    "indexes = np.arange(len(labels))\n",
    "width = 0.5\n",
    "plt.bar(indexes, values, width)\n",
    "plt.xticks(indexes + width * 0.5, labels)\n",
    "plt.tight_layout()\n",
    "plt.show()"
   ]
  },
  {
   "cell_type": "markdown",
   "metadata": {},
   "source": [
    "As seen in the above histogram, the __sentences with similar lengths in ascending order__ are plotted against their __number of occurences__. Sentences with shorter lengths are more than those with longer lengths. To build a syntax tree we consider the _75 percentile_ of the above histogram."
   ]
  },
  {
   "cell_type": "markdown",
   "metadata": {},
   "source": [
    "## Building syntax tree\n",
    "In order to obtain a syntax tree we needed to import from NLTK a parser and a grammar. For the latter we took \"large_grammar\" which, unfortunately, lacked many common words.\n",
    "This fact led to the necessity to create a grammar on our own, or just tagging the missing words; we could buil a small grammar for some long sentences in one book but it would be inefficient to make it for a lot of sentences or more books."
   ]
  },
  {
   "cell_type": "code",
   "execution_count": 15,
   "metadata": {
    "collapsed": false
   },
   "outputs": [],
   "source": [
    "import nltk\n",
    "from nltk import load_parser\n",
    "from nltk import pos_tag, word_tokenize, CFG"
   ]
  },
  {
   "cell_type": "markdown",
   "metadata": {},
   "source": [
    "We make use of __large grammar__ which contains three sets of grammar in it namely:\n",
    "- __CT grammar__: The CT grammar and lexicon were derived from a CFG (courtesy of John Dowding, SRI International) compiled from a task-specific unification grammar written for CommandTalk, an SRI-developed spoken-language interface to a military simulation system. \n",
    "\n",
    "- __ATIS grammar__: The ATIS grammar and lexicon (courtesy of George Heidorn and Eric Ringger, Microsoft Research) were extracted from a treebank of the DARPA ATIS3 training sentences. \n",
    "\n",
    "- __PT grammar__: The PT grammar (courtesy of Eugene Charniak, Brown University) was extracted from the Penn Treebank.\n",
    "\n",
    "\n",
    "Various transformations, including removal of cycles, were performed on these grammars to get them into a uniform notation suitable for the experiments reported in the study. The root symbol for all three grammars is the token SIGMA.\n",
    "\n",
    "Further details on these grammars can be obtained on the following link:\n",
    "http://users.sussex.ac.uk/~johnca/cfg-resources/index.html\n",
    "\n",
    "We tested with ATIS grammar as CT grammar's lexicon was limited to military vocabulary and PT grammar's lexicon was very small.\n",
    "\n",
    "The lexicons of each grammar can be viewed at the following links:\n",
    "\n",
    "* __CT grammar:__  http://users.sussex.ac.uk/~johnca/cfg-resources/ct-eval-lex\n",
    "* __ATIS grammar:__ http://users.sussex.ac.uk/~johnca/cfg-resources/atis-lex\n",
    "* __PT grammar:__ http://users.sussex.ac.uk/~johnca/cfg-resources/pt-lex"
   ]
  },
  {
   "cell_type": "code",
   "execution_count": 16,
   "metadata": {
    "collapsed": true
   },
   "outputs": [],
   "source": [
    "# load atis grammar from large grammar\n",
    "atis_grammar = nltk.data.load('grammars/large_grammars/atis.cfg')"
   ]
  },
  {
   "cell_type": "markdown",
   "metadata": {},
   "source": [
    "Sentences need to be in __lower case__ as the grammars are _case sensitive_ and don't recognize words with upper case letters."
   ]
  },
  {
   "cell_type": "code",
   "execution_count": 17,
   "metadata": {
    "collapsed": false
   },
   "outputs": [],
   "source": [
    "# load test sent with all lower characters\n",
    "test_sent = [x.lower() for x in list_sent[ind]]"
   ]
  },
  {
   "cell_type": "code",
   "execution_count": 18,
   "metadata": {
    "collapsed": false
   },
   "outputs": [
    {
     "ename": "ValueError",
     "evalue": "Grammar does not cover some of the input words: '\\',\\', \\'few\\', \\'feverish\\', \\'men\\', \\',\\', \\'top\\', \\'hats\\', \\',\\', \\'running\\', \\'street\\', \\',\\', \\'differ\\', \\'ideal\\', \\'itself\\', \\',\\', \\'church\\', \\',\\', \\'parthenon\\', \\'means\\', \\'virginity\\', \\',\\', \\'roman\\', \\'empire\\', \\'outwards\\', \\'virgin\\', \\'flame\\', \\',\\', \\'whole\\', \\'legend\\', \\'tradition\\', \\'europe\\', \\',\\', \\'lion\\', \\'touch\\', \\'virgins\\', \\',\\', \\'unicorn\\', \\'respects\\', \\',\\', \\'together\\', \\'bearers\\', \\'own\\', \\'shield\\', \\',\\', \\'lawless\\', \\'own\\', \\'poets\\', \\',\\', \\'massinger\\', \\',\\', \\'wrote\\', \\'_virgin\\', \\'martyr_\\', \\',\\', \\'shakespeare\\', \\',\\', \\'wrote\\', \\'_measure\\', \\'measure_\\', \\'--\\', \\'fleet\\', \\'street\\', \\'differ\\', \\'human\\', \\'experience\\', \\',\\', \\'never\\', \\'strike\\', \\'fleet\\', \\'street\\', \\'wrong\\', \\'?\"\\''.",
     "output_type": "error",
     "traceback": [
      "\u001b[0;31m---------------------------------------------------------------------------\u001b[0m",
      "\u001b[0;31mValueError\u001b[0m                                Traceback (most recent call last)",
      "\u001b[0;32m<ipython-input-18-12f53f148ecd>\u001b[0m in \u001b[0;36m<module>\u001b[0;34m()\u001b[0m\n\u001b[1;32m      1\u001b[0m \u001b[0;31m# to use Top Down Chart Parser with large grammar\u001b[0m\u001b[0;34m\u001b[0m\u001b[0;34m\u001b[0m\u001b[0m\n\u001b[1;32m      2\u001b[0m \u001b[0mparser\u001b[0m \u001b[0;34m=\u001b[0m \u001b[0mnltk\u001b[0m\u001b[0;34m.\u001b[0m\u001b[0mTopDownChartParser\u001b[0m\u001b[0;34m(\u001b[0m\u001b[0matis_grammar\u001b[0m\u001b[0;34m,\u001b[0m \u001b[0mtrace\u001b[0m \u001b[0;34m=\u001b[0m \u001b[0;36m2\u001b[0m\u001b[0;34m)\u001b[0m\u001b[0;34m\u001b[0m\u001b[0m\n\u001b[0;32m----> 3\u001b[0;31m \u001b[0;32mfor\u001b[0m \u001b[0mtree\u001b[0m \u001b[0;32min\u001b[0m \u001b[0mparser\u001b[0m\u001b[0;34m.\u001b[0m\u001b[0mparse\u001b[0m\u001b[0;34m(\u001b[0m\u001b[0mtest_sent\u001b[0m\u001b[0;34m)\u001b[0m\u001b[0;34m:\u001b[0m\u001b[0;34m\u001b[0m\u001b[0m\n\u001b[0m\u001b[1;32m      4\u001b[0m     \u001b[0mprint\u001b[0m\u001b[0;34m(\u001b[0m\u001b[0mtree\u001b[0m\u001b[0;34m)\u001b[0m\u001b[0;34m\u001b[0m\u001b[0m\n",
      "\u001b[0;32m/home/suraj/anaconda3/lib/python3.6/site-packages/nltk/parse/chart.py\u001b[0m in \u001b[0;36mparse\u001b[0;34m(self, tokens, tree_class)\u001b[0m\n\u001b[1;32m   1348\u001b[0m \u001b[0;34m\u001b[0m\u001b[0m\n\u001b[1;32m   1349\u001b[0m     \u001b[0;32mdef\u001b[0m \u001b[0mparse\u001b[0m\u001b[0;34m(\u001b[0m\u001b[0mself\u001b[0m\u001b[0;34m,\u001b[0m \u001b[0mtokens\u001b[0m\u001b[0;34m,\u001b[0m \u001b[0mtree_class\u001b[0m\u001b[0;34m=\u001b[0m\u001b[0mTree\u001b[0m\u001b[0;34m)\u001b[0m\u001b[0;34m:\u001b[0m\u001b[0;34m\u001b[0m\u001b[0m\n\u001b[0;32m-> 1350\u001b[0;31m         \u001b[0mchart\u001b[0m \u001b[0;34m=\u001b[0m \u001b[0mself\u001b[0m\u001b[0;34m.\u001b[0m\u001b[0mchart_parse\u001b[0m\u001b[0;34m(\u001b[0m\u001b[0mtokens\u001b[0m\u001b[0;34m)\u001b[0m\u001b[0;34m\u001b[0m\u001b[0m\n\u001b[0m\u001b[1;32m   1351\u001b[0m         \u001b[0;32mreturn\u001b[0m \u001b[0miter\u001b[0m\u001b[0;34m(\u001b[0m\u001b[0mchart\u001b[0m\u001b[0;34m.\u001b[0m\u001b[0mparses\u001b[0m\u001b[0;34m(\u001b[0m\u001b[0mself\u001b[0m\u001b[0;34m.\u001b[0m\u001b[0m_grammar\u001b[0m\u001b[0;34m.\u001b[0m\u001b[0mstart\u001b[0m\u001b[0;34m(\u001b[0m\u001b[0;34m)\u001b[0m\u001b[0;34m,\u001b[0m \u001b[0mtree_class\u001b[0m\u001b[0;34m=\u001b[0m\u001b[0mtree_class\u001b[0m\u001b[0;34m)\u001b[0m\u001b[0;34m)\u001b[0m\u001b[0;34m\u001b[0m\u001b[0m\n\u001b[1;32m   1352\u001b[0m \u001b[0;34m\u001b[0m\u001b[0m\n",
      "\u001b[0;32m/home/suraj/anaconda3/lib/python3.6/site-packages/nltk/parse/chart.py\u001b[0m in \u001b[0;36mchart_parse\u001b[0;34m(self, tokens, trace)\u001b[0m\n\u001b[1;32m   1307\u001b[0m \u001b[0;34m\u001b[0m\u001b[0m\n\u001b[1;32m   1308\u001b[0m         \u001b[0mtokens\u001b[0m \u001b[0;34m=\u001b[0m \u001b[0mlist\u001b[0m\u001b[0;34m(\u001b[0m\u001b[0mtokens\u001b[0m\u001b[0;34m)\u001b[0m\u001b[0;34m\u001b[0m\u001b[0m\n\u001b[0;32m-> 1309\u001b[0;31m         \u001b[0mself\u001b[0m\u001b[0;34m.\u001b[0m\u001b[0m_grammar\u001b[0m\u001b[0;34m.\u001b[0m\u001b[0mcheck_coverage\u001b[0m\u001b[0;34m(\u001b[0m\u001b[0mtokens\u001b[0m\u001b[0;34m)\u001b[0m\u001b[0;34m\u001b[0m\u001b[0m\n\u001b[0m\u001b[1;32m   1310\u001b[0m         \u001b[0mchart\u001b[0m \u001b[0;34m=\u001b[0m \u001b[0mself\u001b[0m\u001b[0;34m.\u001b[0m\u001b[0m_chart_class\u001b[0m\u001b[0;34m(\u001b[0m\u001b[0mtokens\u001b[0m\u001b[0;34m)\u001b[0m\u001b[0;34m\u001b[0m\u001b[0m\n\u001b[1;32m   1311\u001b[0m         \u001b[0mgrammar\u001b[0m \u001b[0;34m=\u001b[0m \u001b[0mself\u001b[0m\u001b[0;34m.\u001b[0m\u001b[0m_grammar\u001b[0m\u001b[0;34m\u001b[0m\u001b[0m\n",
      "\u001b[0;32m/home/suraj/anaconda3/lib/python3.6/site-packages/nltk/grammar.py\u001b[0m in \u001b[0;36mcheck_coverage\u001b[0;34m(self, tokens)\u001b[0m\n\u001b[1;32m    629\u001b[0m             \u001b[0mmissing\u001b[0m \u001b[0;34m=\u001b[0m \u001b[0;34m', '\u001b[0m\u001b[0;34m.\u001b[0m\u001b[0mjoin\u001b[0m\u001b[0;34m(\u001b[0m\u001b[0;34m'%r'\u001b[0m \u001b[0;34m%\u001b[0m \u001b[0;34m(\u001b[0m\u001b[0mw\u001b[0m\u001b[0;34m,\u001b[0m\u001b[0;34m)\u001b[0m \u001b[0;32mfor\u001b[0m \u001b[0mw\u001b[0m \u001b[0;32min\u001b[0m \u001b[0mmissing\u001b[0m\u001b[0;34m)\u001b[0m\u001b[0;34m\u001b[0m\u001b[0m\n\u001b[1;32m    630\u001b[0m             raise ValueError(\"Grammar does not cover some of the \"\n\u001b[0;32m--> 631\u001b[0;31m                              \"input words: %r.\" % missing)\n\u001b[0m\u001b[1;32m    632\u001b[0m \u001b[0;34m\u001b[0m\u001b[0m\n\u001b[1;32m    633\u001b[0m     \u001b[0;32mdef\u001b[0m \u001b[0m_calculate_grammar_forms\u001b[0m\u001b[0;34m(\u001b[0m\u001b[0mself\u001b[0m\u001b[0;34m)\u001b[0m\u001b[0;34m:\u001b[0m\u001b[0;34m\u001b[0m\u001b[0m\n",
      "\u001b[0;31mValueError\u001b[0m: Grammar does not cover some of the input words: '\\',\\', \\'few\\', \\'feverish\\', \\'men\\', \\',\\', \\'top\\', \\'hats\\', \\',\\', \\'running\\', \\'street\\', \\',\\', \\'differ\\', \\'ideal\\', \\'itself\\', \\',\\', \\'church\\', \\',\\', \\'parthenon\\', \\'means\\', \\'virginity\\', \\',\\', \\'roman\\', \\'empire\\', \\'outwards\\', \\'virgin\\', \\'flame\\', \\',\\', \\'whole\\', \\'legend\\', \\'tradition\\', \\'europe\\', \\',\\', \\'lion\\', \\'touch\\', \\'virgins\\', \\',\\', \\'unicorn\\', \\'respects\\', \\',\\', \\'together\\', \\'bearers\\', \\'own\\', \\'shield\\', \\',\\', \\'lawless\\', \\'own\\', \\'poets\\', \\',\\', \\'massinger\\', \\',\\', \\'wrote\\', \\'_virgin\\', \\'martyr_\\', \\',\\', \\'shakespeare\\', \\',\\', \\'wrote\\', \\'_measure\\', \\'measure_\\', \\'--\\', \\'fleet\\', \\'street\\', \\'differ\\', \\'human\\', \\'experience\\', \\',\\', \\'never\\', \\'strike\\', \\'fleet\\', \\'street\\', \\'wrong\\', \\'?\"\\''."
     ]
    }
   ],
   "source": [
    "# to use Top Down Chart Parser with large grammar\n",
    "parser = nltk.TopDownChartParser(atis_grammar, trace = 2)\n",
    "for tree in parser.parse(test_sent):\n",
    "    print(tree)"
   ]
  },
  {
   "cell_type": "markdown",
   "metadata": {},
   "source": [
    "As stated above, we can see that there are many common words missing from the __large_grammar__.\n",
    "\n",
    "We tried to build a __simple grammar__ from the _NLTK tutorials_, but found it very inefficient and tedious to build a grammar for each long sentence in the book. Further to build grammars for different books it would have been very challenging."
   ]
  },
  {
   "cell_type": "code",
   "execution_count": null,
   "metadata": {
    "collapsed": true
   },
   "outputs": [],
   "source": [
    "# simple grammar    \n",
    "grammar1 = nltk.CFG.fromstring(\"\"\"\n",
    "    S -> NP VP\n",
    "    VP -> V NP | V NP PP\n",
    "    PP -> P NP\n",
    "    V -> 'saw' | 'ate' | 'walked'\n",
    "    NP -> 'Jonh' | 'Mary' | 'Bob' | Det N | Det N PP\n",
    "    Det -> 'a' | 'an' | 'the' | 'my'\n",
    "    N -> 'man' | 'dog' | 'cat' | 'telescope' | 'park'\n",
    "    P -> 'in' | 'on' | 'by' | 'with'\n",
    "\"\"\")"
   ]
  },
  {
   "cell_type": "code",
   "execution_count": null,
   "metadata": {
    "collapsed": true
   },
   "outputs": [],
   "source": [
    "# to use Top Down Chart Parser with simple grammar\n",
    "parser1 = nltk.TopDownChartParser(grammar1, trace = 2)"
   ]
  },
  {
   "cell_type": "code",
   "execution_count": null,
   "metadata": {
    "collapsed": false
   },
   "outputs": [],
   "source": [
    "# test parser\n",
    "for tree in parser1.parse(test_sent):\n",
    "    print(tree)"
   ]
  },
  {
   "cell_type": "markdown",
   "metadata": {},
   "source": [
    "Here, we can see the words not covered by the \"simple_grammar\", which is much more compared with _large grammar_.\n",
    "In both cases we used the Top Down Chart Parser just as an example, indeed we tried all the others and none of them gave a satisfactory result."
   ]
  },
  {
   "cell_type": "markdown",
   "metadata": {},
   "source": [
    "As a further attempt, we tried to insert the missing words, tagging them and creating a new grammar in this way, but as stated above it was very tedious."
   ]
  },
  {
   "cell_type": "code",
   "execution_count": null,
   "metadata": {
    "collapsed": true
   },
   "outputs": [],
   "source": [
    "# For example, here we added the world \"few\", defining also its tag\n",
    "lhs = nltk.grammar.Nonterminal('few')\n",
    "rhs = [u'few']\n",
    "few_production = nltk.grammar.Production(lhs, rhs)\n",
    "new_grammar = nltk.data.load('grammars/large_grammars/atis.cfg')\n",
    "new_grammar._productions.append(few_production)    \n",
    "lhs2 = nltk.grammar.Nonterminal('NOUN_N') #IMPORTANT: set the right word type\n",
    "new_grammar._productions.append(nltk.grammar.Production(lhs2, [lhs]))"
   ]
  },
  {
   "cell_type": "markdown",
   "metadata": {},
   "source": [
    "We tried pos tagging the words in our sentences and tried to add them to the grammar but coud not find an automated way to do this."
   ]
  },
  {
   "cell_type": "code",
   "execution_count": 28,
   "metadata": {
    "collapsed": false
   },
   "outputs": [
    {
     "name": "stdout",
     "output_type": "stream",
     "text": [
      "Pos-tagged words: [('but', 'CC'), ('if', 'IN'), ('you', 'PRP'), (',', ','), ('and', 'CC'), ('a', 'DT'), ('few', 'JJ'), ('feverish', 'JJ'), ('men', 'NNS'), (',', ','), ('in', 'IN'), ('top', 'JJ'), ('hats', 'NNS'), (',', ','), ('running', 'VBG'), ('about', 'RB'), ('in', 'IN'), ('a', 'DT'), ('street', 'NN'), ('in', 'IN'), ('london', 'NN'), (',', ','), ('choose', 'VB'), ('to', 'TO'), ('differ', 'VB'), ('as', 'IN'), ('to', 'TO'), ('the', 'DT'), ('ideal', 'NN'), ('itself', 'PRP'), (',', ','), ('not', 'RB'), ('only', 'RB'), ('from', 'IN'), ('the', 'DT'), ('church', 'NN'), (',', ','), ('but', 'CC'), ('from', 'IN'), ('the', 'DT'), ('parthenon', 'NN'), ('whose', 'WP$'), ('name', 'NN'), ('means', 'VBZ'), ('virginity', 'NN'), (',', ','), ('from', 'IN'), ('the', 'DT'), ('roman', 'NN'), ('empire', 'NN'), ('which', 'WDT'), ('went', 'VBD'), ('outwards', 'NNS'), ('from', 'IN'), ('the', 'DT'), ('virgin', 'NN'), ('flame', 'NN'), (',', ','), ('from', 'IN'), ('the', 'DT'), ('whole', 'JJ'), ('legend', 'NN'), ('and', 'CC'), ('tradition', 'NN'), ('of', 'IN'), ('europe', 'NN'), (',', ','), ('from', 'IN'), ('the', 'DT'), ('lion', 'NN'), ('who', 'WP'), ('will', 'MD'), ('not', 'RB'), ('touch', 'VB'), ('virgins', 'NNS'), (',', ','), ('from', 'IN'), ('the', 'DT'), ('unicorn', 'NN'), ('who', 'WP'), ('respects', 'VBZ'), ('them', 'PRP'), (',', ','), ('and', 'CC'), ('who', 'WP'), ('make', 'VBP'), ('up', 'RP'), ('together', 'RB'), ('the', 'DT'), ('bearers', 'NNS'), ('of', 'IN'), ('your', 'PRP$'), ('own', 'JJ'), ('national', 'JJ'), ('shield', 'NN'), (',', ','), ('from', 'IN'), ('the', 'DT'), ('most', 'RBS'), ('living', 'JJ'), ('and', 'CC'), ('lawless', 'JJ'), ('of', 'IN'), ('your', 'PRP$'), ('own', 'JJ'), ('poets', 'NNS'), (',', ','), ('from', 'IN'), ('massinger', 'NN'), (',', ','), ('who', 'WP'), ('wrote', 'VBD'), ('the', 'DT'), ('_virgin', 'NN'), ('martyr_', 'NN'), (',', ','), ('from', 'IN'), ('shakespeare', 'NN'), (',', ','), ('who', 'WP'), ('wrote', 'VBD'), ('_measure', 'NN'), ('for', 'IN'), ('measure_', 'NN'), ('--', ':'), ('if', 'IN'), ('you', 'PRP'), ('in', 'IN'), ('fleet', 'JJ'), ('street', 'NN'), ('differ', 'NN'), ('from', 'IN'), ('all', 'PDT'), ('this', 'DT'), ('human', 'JJ'), ('experience', 'NN'), (',', ','), ('does', 'VBZ'), ('it', 'PRP'), ('never', 'RB'), ('strike', 'NN'), ('you', 'PRP'), ('that', 'IN'), ('it', 'PRP'), ('may', 'MD'), ('be', 'VB'), ('fleet', 'JJ'), ('street', 'NN'), ('that', 'WDT'), ('is', 'VBZ'), ('wrong', 'JJ'), ('?', '.'), (\"''\", \"''\")]\n"
     ]
    }
   ],
   "source": [
    "from nltk import pos_tag, word_tokenize, CFG\n",
    "\n",
    "# convert test_sent to string\n",
    "string_test_sent = ' '.join(test_sent)\n",
    "\n",
    "# tokenize words\n",
    "tag_test_sent = nltk.word_tokenize(string_test_sent)\n",
    "\n",
    "# pos tagging tokens\n",
    "list_of_tokens = nltk.pos_tag(tag_test_sent)\n",
    "\n",
    "print('Pos-tagged words:',list_of_tokens)\n"
   ]
  },
  {
   "cell_type": "markdown",
   "metadata": {},
   "source": [
    "## Conclusion\n",
    "\n",
    "To conclude, we were able to scan the books for long sentences and find the longest sentence using the inbuilt functions of _gutenberg object_ in NLTK. Although we were unsuccesful in building the syntax tree of these long sentences and determining the syntatic construction(s) responsible for such long sentences, we found the following obstacles and drawbacks associated with NLTK.\n",
    "\n",
    "- The functions in gutenberg object can mistake a set of sentences as a single sentence.\n",
    "- There is no availabe grammar currently in NLTK which has a large enough lexicon to cover the regular vocabulary used in books. (Although there are other alternatives available used in production which are more promising, eg. spaCy, Syntaxnet, Stanford NLP)\n",
    "- Building grammar manually is very inefficient and no automated models are available to build grammar under NLTK."
   ]
  },
  {
   "cell_type": "code",
   "execution_count": null,
   "metadata": {
    "collapsed": true
   },
   "outputs": [],
   "source": []
  }
 ],
 "metadata": {
  "kernelspec": {
   "display_name": "Python 3",
   "language": "python",
   "name": "python3"
  },
  "language_info": {
   "codemirror_mode": {
    "name": "ipython",
    "version": 3
   },
   "file_extension": ".py",
   "mimetype": "text/x-python",
   "name": "python",
   "nbconvert_exporter": "python",
   "pygments_lexer": "ipython3",
   "version": "3.6.0"
  }
 },
 "nbformat": 4,
 "nbformat_minor": 2
}
